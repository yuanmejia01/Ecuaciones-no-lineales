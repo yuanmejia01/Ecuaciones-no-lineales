{
  "nbformat": 4,
  "nbformat_minor": 0,
  "metadata": {
    "colab": {
      "name": "Ecuaciones no lineales.ipynb",
      "provenance": [],
      "collapsed_sections": []
    },
    "kernelspec": {
      "name": "python3",
      "display_name": "Python 3"
    },
    "language_info": {
      "name": "python"
    }
  },
  "cells": [
    {
      "cell_type": "markdown",
      "source": [
        "Ecuaciones no lineales. Metodos de aproximar la raiz.\n"
      ],
      "metadata": {
        "id": "u23TMDxTKhd8"
      }
    },
    {
      "cell_type": "code",
      "source": [
        "#Metodo de la biseccion\n",
        "\n",
        "import sympy\n",
        "import matplotlib.pyplot as plt\n",
        "import numpy as np\n",
        "\n",
        "x = sympy.symbols(\"x\")\n",
        "#Take intergers to know the interval graphing\n",
        "a = 0 #Lower Limit\n",
        "b = 1 #Upper Limit\n",
        "n = 200 #Iterations\n",
        "\n",
        "def y(x):\n",
        "  return np.e**(x-1)-1.5*x\n",
        "sumatory = 0\n",
        "f_a = y(a)\n",
        "f_b = y(b)\n",
        "\n",
        "if (f_a*f_b > 0):\n",
        "  print(\"No hay raiz entre los extremos dados. Intente con otros extremos.\")\n",
        "else:\n",
        "  if (f_a*f_b == 0):\n",
        "    if(f_a == 0): \n",
        "      print(a, \"es la raiz de la funcion\")\n",
        "    else:\n",
        "      print(b, \"es la raiz de la funcion\")\n",
        "  else: #f_a*f_b < 0\n",
        "    for i in range(n):\n",
        "      x_m = (a+b)/2\n",
        "      f_xm = y(x_m)\n",
        "      if (f_a*f_xm > 0):\n",
        "        a = x_m\n",
        "      else:\n",
        "        b = x_m\n",
        "  print(\"La raiz aproximada es\", x_m)\n",
        "  \n",
        "\n",
        "x = np.linspace(a-3,b+3, 1000) \n",
        "lista_y = y(x)\n",
        "plt.plot(x,lista_y,\"-r\")\n",
        "plt.plot([x_m],[0],marker=\"o\") #Solucion\n",
        "plt.grid()"
      ],
      "metadata": {
        "colab": {
          "base_uri": "https://localhost:8080/",
          "height": 283
        },
        "id": "GKyUswcZKq2I",
        "outputId": "f341e403-50ce-4999-aae4-8a95963e64b9"
      },
      "execution_count": 20,
      "outputs": [
        {
          "output_type": "stream",
          "name": "stdout",
          "text": [
            "La raiz aproximada es 0.34698160970757974\n"
          ]
        },
        {
          "output_type": "display_data",
          "data": {
            "text/plain": [
              "<Figure size 432x288 with 1 Axes>"
            ],
            "image/png": "[encoded data removed]"
          },
          "metadata": {
            "needs_background": "light"
          }
        }
      ]
    }
  ]
}